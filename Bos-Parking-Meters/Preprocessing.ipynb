{
 "cells": [
  {
   "cell_type": "markdown",
   "metadata": {},
   "source": [
    "# Parking Meters in Boston"
   ]
  },
  {
   "cell_type": "markdown",
   "metadata": {},
   "source": [
    "#### Import Dataset from API:\n",
    "**Note:** Using customized function from Dana_Library"
   ]
  },
  {
   "cell_type": "code",
   "execution_count": 3,
   "metadata": {},
   "outputs": [
    {
     "name": "stdout",
     "output_type": "stream",
     "text": [
      "Attributes: Index(['_id', 'X', 'Y', 'OBJECTID', 'METER_ID', 'VENDOR', 'PAY_POLICY',\n",
      "       'PRE_PAY', 'PARK_NO_PAY', 'GREEN_DOME', 'TOW_AWAY', 'STREET_CLEANING',\n",
      "       'DIR', 'BLK_NO', 'STREET', 'LOCK_', 'LOCK__', 'LONGITUDE', 'LATITUDE',\n",
      "       'TRAVEL_DIRECTION', 'FROM_INTERSECTION', 'TO_INTERSECTION',\n",
      "       'SPACE_NUMBER', 'NUMBEROFSPACES', 'METER_TYPE', 'HAS_SENSOR',\n",
      "       'G_DISTRICT', 'G_PASSPORT_ZONES', 'G_PM_ZONE', 'G_SUBZONE', 'G_ZONE',\n",
      "       'BASE_RATE', 'POLE_MOUNT', 'YOKE', 'HOUSING_TYPE',\n",
      "       'HOUSING_MANUFACTURER', 'SIDEWALKGE', 'COIN_SLOTLE', 'METER_CONDITION',\n",
      "       'PERMIT_RATE', 'INSTALLED_ON', 'PURCHASED_DATE', 'METER_STATE',\n",
      "       'SPACE_STATE'],\n",
      "      dtype='object')\n",
      "Database Dimension: (6955, 44)\n"
     ]
    }
   ],
   "source": [
    "import sys\n",
    "import os\n",
    "import pandas as pd\n",
    "# Use customsed liberary to import open data from boston api\n",
    "sys.path.append(os.path.abspath(os.path.join(os.getcwd(), '..', 'Dana_Library')))\n",
    "from bos_data_importer import bos_data_api_import as importer\n",
    "\n",
    "# Use the imported function\n",
    "resource_id = \"df6dac6b-e484-470d-8757-6ecae4e04f2a\"\n",
    "df = importer(resource_id)\n",
    "# Display the first few rows of the DataFrame\n",
    "print('Attributes:', df.columns)\n",
    "print('Database Dimension:', df.shape)"
   ]
  },
  {
   "cell_type": "markdown",
   "metadata": {},
   "source": [
    "#### Generating Profile Report:\n",
    "**Note:** Given by the profiling report, we can re-organize and clean the dataset accordingly."
   ]
  },
  {
   "cell_type": "code",
   "execution_count": null,
   "metadata": {},
   "outputs": [],
   "source": [
    "from ydata_profiling import ProfileReport\n",
    "# It took around 7 mins to generateing report.\n",
    "\"\"\"\n",
    "The report usually constains the following information:\n",
    "    Overview; Distinct; Missing; Infinite; Mean; Minimum; Maximum; Zeros; Negative; Memory Size \n",
    "\"\"\"\n",
    "profile = ProfileReport(df, title=\"Profiling Reprot\")\n",
    "profile.to_file(\"Profiling_Report.html\")"
   ]
  },
  {
   "cell_type": "markdown",
   "metadata": {},
   "source": [
    "#### Data Cleaning:"
   ]
  },
  {
   "cell_type": "code",
   "execution_count": null,
   "metadata": {},
   "outputs": [],
   "source": [
    "df"
   ]
  }
 ],
 "metadata": {
  "kernelspec": {
   "display_name": "base",
   "language": "python",
   "name": "python3"
  },
  "language_info": {
   "codemirror_mode": {
    "name": "ipython",
    "version": 3
   },
   "file_extension": ".py",
   "mimetype": "text/x-python",
   "name": "python",
   "nbconvert_exporter": "python",
   "pygments_lexer": "ipython3",
   "version": "3.9.19"
  }
 },
 "nbformat": 4,
 "nbformat_minor": 2
}
